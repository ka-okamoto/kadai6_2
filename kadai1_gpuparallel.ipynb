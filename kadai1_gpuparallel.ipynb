{
 "cells": [
  {
   "cell_type": "code",
   "execution_count": 1,
   "metadata": {},
   "outputs": [],
   "source": [
    "import torchvision.models as models\n",
    "import torchvision.transforms as transforms\n",
    "from torch.utils.data import DataLoader\n",
    "from torchvision.datasets import CIFAR10\n",
    "import matplotlib.pyplot as plt\n",
    "import torch.nn as nn\n",
    "import torch.nn.functional as F\n",
    "import torch.optim as optim\n",
    "import torch\n",
    "\n",
    "import time\n",
    "\n",
    "import warnings\n",
    "warnings.filterwarnings('ignore')"
   ]
  },
  {
   "cell_type": "code",
   "execution_count": 2,
   "metadata": {},
   "outputs": [
    {
     "name": "stdout",
     "output_type": "stream",
     "text": [
      "cuda:0\n"
     ]
    }
   ],
   "source": [
    "#-----------------GPU_play---------------\n",
    "device = torch.device(\"cuda:0\" if torch.cuda.is_available() else \"cpu\")\n",
    "print(device)"
   ]
  },
  {
   "cell_type": "code",
   "execution_count": 3,
   "metadata": {},
   "outputs": [
    {
     "name": "stdout",
     "output_type": "stream",
     "text": [
      "Files already downloaded and verified\n",
      "Files already downloaded and verified\n"
     ]
    }
   ],
   "source": [
    "#------------------dataset----------------\n",
    "train_data = CIFAR10('/export/space/okamoto-ka/jupyter/notebook/report6/kadai1',\n",
    "                   train=True,download=True,transform=transforms.ToTensor())\n",
    "test_data = CIFAR10('/export/space/okamoto-ka/jupyter/notebook/report6/kadai1',\n",
    "                   train=False,download=True,transform=transforms.ToTensor())\n",
    "#------------------cpu_loader----------------\n",
    "cpu_train_loader = DataLoader(train_data,batch_size=50,shuffle=True)\n",
    "cpu_test_loader = DataLoader(test_data,batch_size=50,shuffle=False)\n",
    "#------------------gpu_loader----------------\n",
    "gpu_train_loader = DataLoader(train_data,batch_size=100,shuffle=True)\n",
    "gpu_test_loader = DataLoader(test_data,batch_size=100,shuffle=False)\n",
    "#------------------gpu_loader----------------\n",
    "gpu_Quad_train_loader = DataLoader(train_data,batch_size=200,shuffle=True)\n",
    "gpu_Quad_test_loader = DataLoader(test_data,batch_size=200,shuffle=False)"
   ]
  },
  {
   "cell_type": "code",
   "execution_count": 4,
   "metadata": {},
   "outputs": [
    {
     "name": "stdout",
     "output_type": "stream",
     "text": [
      "Dataset CIFAR10\n",
      "    Number of datapoints: 10000\n",
      "    Split: test\n",
      "    Root Location: /export/space/okamoto-ka/jupyter/notebook/report6/kadai1\n",
      "    Transforms (if any): ToTensor()\n",
      "    Target Transforms (if any): None\n"
     ]
    }
   ],
   "source": [
    "print(test_data)"
   ]
  },
  {
   "cell_type": "code",
   "execution_count": 5,
   "metadata": {},
   "outputs": [],
   "source": [
    "#--------------define model---------------------\n",
    "class Net(nn.Module):\n",
    "    def __init__(self):\n",
    "        super(Net, self).__init__()\n",
    "        self.conv1 = nn.Conv2d(3, 6, 5)\n",
    "        self.pool = nn.MaxPool2d(2, 2)\n",
    "        self.conv2 = nn.Conv2d(6, 16, 5)\n",
    "        self.fc1 = nn.Linear(16 * 5 * 5, 120)\n",
    "        self.fc2 = nn.Linear(120, 84)\n",
    "        self.fc3 = nn.Linear(84, 10)\n",
    "\n",
    "    def forward(self, x):\n",
    "        x = self.pool(F.relu(self.conv1(x)))\n",
    "        x = self.pool(F.relu(self.conv2(x)))\n",
    "        x = x.view(-1, 16 * 5 * 5)\n",
    "        x = F.relu(self.fc1(x))\n",
    "        x = F.relu(self.fc2(x))\n",
    "        x = self.fc3(x)\n",
    "        return x"
   ]
  },
  {
   "cell_type": "code",
   "execution_count": 6,
   "metadata": {},
   "outputs": [],
   "source": [
    "def learning(net,gpu_use=False):\n",
    "    #-------------------train-------------------------\n",
    "    net.train()\n",
    "    since = time.time() \n",
    "    criterion = nn.CrossEntropyLoss()\n",
    "    optimizer = optim.SGD(net.parameters(),lr=0.001,momentum=0.9)\n",
    "    bestloss = 100\n",
    "    \n",
    "    if gpu_use: \n",
    "          mode = 'gpu'\n",
    "          train_loader = gpu_train_loader\n",
    "          test_loader = gpu_train_loader\n",
    "          mini_batches = 80   \n",
    "    else:\n",
    "          mode = 'cpu'\n",
    "          train_loader = cpu_train_loader\n",
    "          test_loader =  cpu_test_loader\n",
    "          mini_batches = 160\n",
    "        \n",
    "    print('strat traing mode:%s'%mode)\n",
    "    \n",
    "    for epoch in range(12):\n",
    "        \n",
    "     running_loss = 0.0   \n",
    "     for i ,(inputs,labels) in enumerate(train_loader):\n",
    "       #Variable\n",
    "       if gpu_use: \n",
    "          inputs = inputs.to(device)\n",
    "          labels = labels.to(device)\n",
    "       #zero_grad\n",
    "       optimizer.zero_grad()\n",
    "       #Forward\n",
    "       outputs = net(inputs)\n",
    "       #loss \n",
    "       loss = criterion(outputs,labels)\n",
    "       #backward\n",
    "       loss.backward()\n",
    "       #param update\n",
    "       optimizer.step()\n",
    "       running_loss += loss.item()\n",
    "\n",
    "       if i %mini_batches == (mini_batches-1):\n",
    "          if running_loss < bestloss:\n",
    "            bestloss = running_loss\n",
    "          \n",
    "          running_loss = 0.0\n",
    "\n",
    "       time_elapsed = time.time()-since\n",
    "       \n",
    "    print('Finished Training ')\n",
    "    print('Bset loss : %.4f'%( bestloss/mini_batches))\n",
    "    print('Training compete in %d m %.3f s \\n' %(time_elapsed//60,time_elapsed % 60))\n",
    "    \n",
    "    #-------------------test-------------------------\n",
    "    net.eval()\n",
    "    correct = 0\n",
    "    total = 0 \n",
    "    with torch.no_grad():\n",
    "     for (inputs,labels) in test_loader:\n",
    "      if gpu_use: \n",
    "        inputs = inputs.to(device)\n",
    "        labels = labels.to(device)\n",
    "       \n",
    "      outputs = net(inputs)\n",
    "      _, predicted = torch.max(outputs.data,1)\n",
    "      total +=labels.size(0)\n",
    "      correct += (predicted == labels).sum()\n",
    "    print('Accuracy %d / %d = %.3f' %(correct, total, float(correct.data[0]) / total))\n",
    "    "
   ]
  },
  {
   "cell_type": "code",
   "execution_count": 60,
   "metadata": {},
   "outputs": [
    {
     "name": "stdout",
     "output_type": "stream",
     "text": [
      "strat traing mode:cpu\n",
      "Finished Training \n",
      "Bset loss : 0.6250\n",
      "Training compete in 2 m 37.811 s \n",
      "\n",
      "Accuracy 5127 / 10000 = 0.513\n",
      "Let's use 2 GPUs!\n",
      "strat traing mode:gpu\n",
      "Finished Training \n",
      "Bset loss : 1.2500\n",
      "Training compete in 1 m 6.407 s \n",
      "\n",
      "Accuracy 22888 / 50000 = 0.458\n"
     ]
    }
   ],
   "source": [
    "#CPUNet\n",
    "cpu_net = Net()\n",
    "gpu_mode = False\n",
    "learning(cpu_net,gpu_mode)\n",
    "\n",
    "\n",
    "#------------gpu--------------\n",
    "\n",
    "if torch.cuda.device_count() >1:\n",
    " #GPUNet   \n",
    " print(\"Let's use\", torch.cuda.device_count(), \"GPUs!\")\n",
    " gpu_net = Net()\n",
    " gpu_mode =  True   \n",
    " gpu_net = nn.DataParallel(gpu_net)\n",
    " gpu_net = gpu_net.to(device)\n",
    " learning(gpu_net,gpu_mode)\n",
    "\n",
    "  "
   ]
  },
  {
   "cell_type": "code",
   "execution_count": 8,
   "metadata": {},
   "outputs": [
    {
     "name": "stdout",
     "output_type": "stream",
     "text": [
      "Let's Quad GPU use 4 GPUs!\n",
      "strat traing mode:gpu\n",
      "Finished Training \n",
      "Bset loss : 1.2500\n",
      "Training compete in 1 m 6.601 s \n",
      "\n",
      "Accuracy 20637 / 50000 = 0.413\n"
     ]
    }
   ],
   "source": [
    "#------------gpu--------------\n",
    "\n",
    "if torch.cuda.device_count() >1:\n",
    " #GPUNet   \n",
    " print(\"Let's Quad GPU use\", torch.cuda.device_count(), \"GPUs!\")\n",
    " gpu_quad_net = Net()\n",
    " gpu_mode =  True   \n",
    " gpu_quad_net = nn.DataParallel(gpu_quad_net)\n",
    " gpu_net = gpu_quad_net.to(device)\n",
    " learning(gpu_quad_net,gpu_mode)\n"
   ]
  },
  {
   "cell_type": "code",
   "execution_count": null,
   "metadata": {},
   "outputs": [],
   "source": []
  }
 ],
 "metadata": {
  "kernelspec": {
   "display_name": "Python 3 (Anaconda)",
   "language": "python",
   "name": "python3_anaconda"
  },
  "language_info": {
   "codemirror_mode": {
    "name": "ipython",
    "version": 3
   },
   "file_extension": ".py",
   "mimetype": "text/x-python",
   "name": "python",
   "nbconvert_exporter": "python",
   "pygments_lexer": "ipython3",
   "version": "3.6.3"
  }
 },
 "nbformat": 4,
 "nbformat_minor": 2
}
